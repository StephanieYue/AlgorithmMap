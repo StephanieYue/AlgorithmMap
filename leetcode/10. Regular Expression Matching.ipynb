{
 "cells": [
  {
   "cell_type": "markdown",
   "metadata": {},
   "source": [
    "# 问题：10. Regular Expression Matching 正则表达式匹配\n",
    "# Problem: [10. Regular Expression Matching](https://leetcode.com/problems/regular-expression-matching/description/)\n",
    "\n",
    "## 描述 Description\n",
    "> ![description](https://github.com/Decalogue/AlgorithmMap/blob/master/img/leetcode/10_description.png \"description\") "
   ]
  },
  {
   "cell_type": "markdown",
   "metadata": {},
   "source": [
    "## 例子 Example"
   ]
  },
  {
   "cell_type": "markdown",
   "metadata": {},
   "source": [
    "> ![example](https://github.com/Decalogue/AlgorithmMap/blob/master/img/leetcode/10.png \"example\")"
   ]
  },
  {
   "cell_type": "markdown",
   "metadata": {},
   "source": [
    "## 分析 Analysis"
   ]
  },
  {
   "cell_type": "markdown",
   "metadata": {},
   "source": [
    "核心思想：\n",
    "> 思路1：动态规划\n",
    ">> 时间复杂度：O(sp)\n",
    ">> 空间复杂度：O(sp)\n",
    "\n",
    "> 思路2：\n",
    ">> 时间复杂度：O(n)\n",
    ">> 空间复杂度：O(1)"
   ]
  },
  {
   "cell_type": "markdown",
   "metadata": {},
   "source": [
    "## 定义 Definition"
   ]
  },
  {
   "cell_type": "markdown",
   "metadata": {},
   "source": [
    "### Python"
   ]
  },
  {
   "cell_type": "code",
   "execution_count": 2,
   "metadata": {
    "collapsed": true
   },
   "outputs": [],
   "source": [
    "class Solution:\n",
    "    def isMatch(self, s, p):\n",
    "        \"\"\"\n",
    "        :type s: str\n",
    "        :type p: str\n",
    "        :rtype: bool\n",
    "        \"\"\""
   ]
  },
  {
   "cell_type": "markdown",
   "metadata": {},
   "source": [
    "### C++"
   ]
  },
  {
   "cell_type": "markdown",
   "metadata": {},
   "source": [
    "```c++\n",
    "class Solution {\n",
    "public:\n",
    "    bool isMatch(string s, string p) {\n",
    "        \n",
    "    }\n",
    "};\n",
    "```"
   ]
  },
  {
   "cell_type": "markdown",
   "metadata": {},
   "source": [
    "### Java"
   ]
  },
  {
   "cell_type": "markdown",
   "metadata": {},
   "source": [
    "```java\n",
    "class Solution {\n",
    "    public boolean isMatch(String s, String p) {\n",
    "        \n",
    "    }\n",
    "}\n",
    "```"
   ]
  },
  {
   "cell_type": "markdown",
   "metadata": {},
   "source": [
    "## 解决方案 Solution"
   ]
  },
  {
   "cell_type": "markdown",
   "metadata": {},
   "source": [
    "### 1.动态规划\n",
    "\n",
    "> 时间复杂度：O(sp)\n",
    "> 空间复杂度：O(sp)"
   ]
  },
  {
   "cell_type": "markdown",
   "metadata": {},
   "source": [
    "### Python"
   ]
  },
  {
   "cell_type": "code",
   "execution_count": 1,
   "metadata": {
    "collapsed": true
   },
   "outputs": [],
   "source": [
    "class Solution(object):\n",
    "    def isMatch(self, s, p):\n",
    "        \"\"\"\n",
    "        :type s: str\n",
    "        :type p: str\n",
    "        :rtype: bool\n",
    "        \"\"\"\n",
    "        len_s = len(s)\n",
    "        len_p = len(p)\n",
    "        # initialize\n",
    "        dp = [[False for i in range (len_p+1)] for j in range(len_s+1)]\n",
    "        dp[0][0] = True\n",
    "        # initialize dp[0][j]\n",
    "        for j in range(1,len_p):\n",
    "            if p[j] == '*':\n",
    "                dp[0][j+1] = dp [0][j-1]\n",
    "        for i in range(1,len_s+1):\n",
    "            for j in range(1,len_p+1):\n",
    "                if s[i-1] == p[j-1] or p[j-1] == '.':\n",
    "                    dp[i][j] = dp[i-1][j-1]\n",
    "                elif p[j-1] == '*':\n",
    "                    dp[i][j] = (dp[i-1][j-2] and (p[j-2] == s[i-1] or p[j-2] == '.')) \\\n",
    "                               or dp[i][j-2] or (dp[i-1][j] and (s[i-1] == p[j-2] or p[j-2] =='.'))\n",
    "        return dp[len_s][len_p]"
   ]
  },
  {
   "cell_type": "code",
   "execution_count": 2,
   "metadata": {
    "collapsed": true
   },
   "outputs": [],
   "source": [
    "class Solution: # Faster\n",
    "    def isMatch(self, s, p):\n",
    "        m, n = len(s), len(p)\n",
    "        if n > 0 and p[0] == '*': return False      \n",
    "        s, p = s + '#' , p + '#'    # the hashtags mark the end of string/pattern\n",
    "        prev = [False] * (m+1)\n",
    "        current = [False] * (m+1)\n",
    "        prev[-1] = True            # end of pattern matches end of string\n",
    "\n",
    "        for i in range(n-1,-1,-1):\n",
    "            if True not in prev: return False     # terminate early\n",
    "            if p[i] == '*': continue         # ignore * and move to next char in pattern\n",
    "            elif p[i] != '.' and p[i+1] == '*':\n",
    "                current[-1] = prev[-1]\n",
    "                for j in range(m-1,-1,-1):\n",
    "                    current[j] =  prev[j] or (p[i] == s[j] and current[j+1]) \n",
    "            elif p[i] == '.' and p[i+1] == '*':\n",
    "                current[-1] = prev[-1]\n",
    "                for j in range(m-1,-1,-1):\n",
    "                    current[j] = current[j+1] or prev[j]\n",
    "            elif p[i] == '.':\n",
    "                for j in range(m-1,-1,-1):\n",
    "                    current[j] = prev[j+1]\n",
    "            else:\n",
    "                for j in range(m-1,-1,-1):\n",
    "                    current[j] = prev[j+1] and p[i] == s[j]\n",
    "            prev = current\n",
    "            current = [False] * (m+1)\n",
    "\n",
    "        return prev[0] "
   ]
  },
  {
   "cell_type": "markdown",
   "metadata": {},
   "source": [
    "### C++"
   ]
  },
  {
   "cell_type": "markdown",
   "metadata": {},
   "source": [
    "```c++\n",
    "class Solution {\n",
    "public:\n",
    "    bool isMatch(string s, string p) {\n",
    "        int m = s.size(), n = p.size();\n",
    "        vector<vector<bool>> dp(m + 1, vector<bool>(n + 1, false));\n",
    "        dp[0][0] = true;\n",
    "        for (int i = 0; i <= m; ++i) {\n",
    "            for (int j = 1; j <= n; ++j) {\n",
    "                if (j > 1 && p[j - 1] == '*') {\n",
    "                    dp[i][j] = dp[i][j - 2] || (i > 0 && (s[i - 1] == p[j - 2] || p[j - 2] == '.') && dp[i - 1][j]);\n",
    "                } else {\n",
    "                    dp[i][j] = i > 0 && dp[i - 1][j - 1] && (s[i - 1] == p[j - 1] || p[j - 1] == '.');\n",
    "                }\n",
    "            }\n",
    "        }\n",
    "        return dp[m][n];\n",
    "    }\n",
    "};\n",
    "```"
   ]
  },
  {
   "cell_type": "markdown",
   "metadata": {},
   "source": [
    "### Java"
   ]
  },
  {
   "cell_type": "markdown",
   "metadata": {},
   "source": [
    "```java\n",
    "\n",
    "```"
   ]
  },
  {
   "cell_type": "markdown",
   "metadata": {},
   "source": [
    "### 2.\n",
    "\n",
    "> 时间复杂度：O(n)\n",
    "> 空间复杂度：O(1)"
   ]
  },
  {
   "cell_type": "markdown",
   "metadata": {},
   "source": [
    "### Python"
   ]
  },
  {
   "cell_type": "code",
   "execution_count": null,
   "metadata": {
    "collapsed": true
   },
   "outputs": [],
   "source": []
  },
  {
   "cell_type": "markdown",
   "metadata": {},
   "source": [
    "### C++"
   ]
  },
  {
   "cell_type": "markdown",
   "metadata": {},
   "source": [
    "```c++\n",
    "\n",
    "```"
   ]
  },
  {
   "cell_type": "markdown",
   "metadata": {},
   "source": [
    "### Java"
   ]
  },
  {
   "cell_type": "markdown",
   "metadata": {},
   "source": [
    "```Java\n",
    "\n",
    "```"
   ]
  },
  {
   "cell_type": "markdown",
   "metadata": {},
   "source": [
    "## 总结"
   ]
  },
  {
   "cell_type": "markdown",
   "metadata": {
    "collapsed": true
   },
   "source": [
    "### 1.看到这个问题，我最初是怎么思考的？我是怎么做的？遇到了哪些问题？\n",
    "> 思考：\n",
    "\n",
    "> 方法：\n",
    "\n",
    "> 问题：\n",
    "\n",
    "### 2.别人是怎么思考的？别人是怎么做的？\n",
    "> \n",
    "\n",
    "### 3.与他的做法相比，我有哪些可以提升的地方？\n",
    "> "
   ]
  },
  {
   "cell_type": "code",
   "execution_count": null,
   "metadata": {
    "collapsed": true
   },
   "outputs": [],
   "source": []
  }
 ],
 "metadata": {
  "kernelspec": {
   "display_name": "Python 3",
   "language": "python",
   "name": "python3"
  },
  "language_info": {
   "codemirror_mode": {
    "name": "ipython",
    "version": 3
   },
   "file_extension": ".py",
   "mimetype": "text/x-python",
   "name": "python",
   "nbconvert_exporter": "python",
   "pygments_lexer": "ipython3",
   "version": "3.6.1"
  }
 },
 "nbformat": 4,
 "nbformat_minor": 2
}
